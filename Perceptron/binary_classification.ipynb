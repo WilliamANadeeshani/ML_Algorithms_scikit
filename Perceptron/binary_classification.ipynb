{
 "cells": [
  {
   "cell_type": "code",
   "execution_count": 13,
   "metadata": {
    "collapsed": true
   },
   "outputs": [],
   "source": [
    "import matplotlib.pyplot as plt\n",
    "\n",
    "X_Train_sleep = [[0.2, 0.4, 0.5, 0.7]]\n",
    "X_Train_grumpy = [0.1, 0.6, 0.2, 0.9]\n",
    "y = [[1, 1, 1, 0]]\n",
    "\n",
    "plt.title('Cats day spent sleeping vs day spent being grumpy')\n",
    "plt.xlabel('sleep')\n",
    "plt.ylabel('grumpy')\n",
    "plt.axis([0, 1, 0, 1])\n",
    "plt.grid(True)\n",
    "plt.scatter(X_Train_sleep, X_Train_grumpy)\n",
    "plt.show()\n",
    "\n",
    "# decide weather linear separable or not\n",
    "\n"
   ]
  },
  {
   "cell_type": "code",
   "execution_count": 7,
   "metadata": {},
   "outputs": [],
   "source": []
  },
  {
   "cell_type": "code",
   "execution_count": null,
   "metadata": {},
   "outputs": [],
   "source": []
  }
 ],
 "metadata": {
  "kernelspec": {
   "display_name": "Python 2",
   "language": "python",
   "name": "python2"
  },
  "language_info": {
   "codemirror_mode": {
    "name": "ipython",
    "version": 2
   },
   "file_extension": ".py",
   "mimetype": "text/x-python",
   "name": "python",
   "nbconvert_exporter": "python",
   "pygments_lexer": "ipython2",
   "version": "2.7.6"
  }
 },
 "nbformat": 4,
 "nbformat_minor": 0
}
