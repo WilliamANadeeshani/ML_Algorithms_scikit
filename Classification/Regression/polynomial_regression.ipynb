{
 "cells": [
  {
   "cell_type": "code",
   "execution_count": 2,
   "metadata": {
    "collapsed": false
   },
   "outputs": [
    {
     "name": "stdout",
     "output_type": "stream",
     "text": [
      "[[6], [8], [10], [14], [18]]\n**********\n[[  1.   6.  36.]\n [  1.   8.  64.]\n [  1.  10. 100.]\n [  1.  14. 196.]\n [  1.  18. 324.]]\n**********\n[[1.000e+00 6.000e+00 3.600e+01 2.160e+02]\n [1.000e+00 8.000e+00 6.400e+01 5.120e+02]\n [1.000e+00 1.000e+01 1.000e+02 1.000e+03]\n [1.000e+00 1.400e+01 1.960e+02 2.744e+03]\n [1.000e+00 1.800e+01 3.240e+02 5.832e+03]]\n**********\n[[6], [8], [11], [16]]\n**********\n[[  1.   6.  36.]\n [  1.   8.  64.]\n [  1.  11. 121.]\n [  1.  16. 256.]]\n**********\n[[1.000e+00 6.000e+00 3.600e+01 2.160e+02]\n [1.000e+00 8.000e+00 6.400e+01 5.120e+02]\n [1.000e+00 1.100e+01 1.210e+02 1.331e+03]\n [1.000e+00 1.600e+01 2.560e+02 4.096e+03]]\nSimple linear regression r-squared 0.809726797707665\nQuadratic regression r-squared 0.8675443656345054\nCubic regression r-squared 0.835692415603711\n"
     ]
    }
   ],
   "source": [
    "import numpy as np\n",
    "import matplotlib.pyplot as plt\n",
    "\n",
    "from sklearn.linear_model import LinearRegression\n",
    "from sklearn.preprocessing import PolynomialFeatures\n",
    "\n",
    "X_train = [[6], [8], [10], [14], [18]]\n",
    "y_train = [[7], [9], [13], [17.5], [18]]\n",
    "X_test = [[6], [8], [11], [16]]\n",
    "y_test = [[8], [12], [15], [18]]\n",
    "\n",
    "# linear model\n",
    "regressor = LinearRegression()\n",
    "regressor.fit(X_train, y_train)\n",
    "xx = np.linspace(0, 26, 100)\n",
    "yy = regressor.predict(xx.reshape(xx.shape[0], 1))\n",
    "plt.plot(xx, yy)\n",
    "\n",
    "# quadratic model\n",
    "quadratic_featurizer = PolynomialFeatures(degree=2)\n",
    "X_train_quadratic = quadratic_featurizer.fit_transform(X_train)\n",
    "X_test_quadratic = quadratic_featurizer.transform(X_test)\n",
    "regressor_quadratic = LinearRegression()\n",
    "regressor_quadratic.fit(X_train_quadratic, y_train)\n",
    "xx_quadratic = quadratic_featurizer.transform(xx.reshape(xx.shape[0], 1))\n",
    "plt.plot(xx, regressor_quadratic.predict(xx_quadratic), c='r', linestyle='--')\n",
    "\n",
    "# cubical modle\n",
    "cube_featurizer = PolynomialFeatures(degree=3)\n",
    "X_train_cube = cube_featurizer.fit_transform(X_train)\n",
    "X_test_cube = cube_featurizer.transform(X_test)\n",
    "regressor_cube = LinearRegression()\n",
    "regressor_cube.fit(X_train_cube, y_train)\n",
    "xxx_cube = cube_featurizer.transform((xx.reshape((xx.shape[0], 1))))\n",
    "plt.plot(xx, regressor_cube.predict(xxx_cube), c='r')\n",
    "\n",
    "plt.title('Pizza price regressed on diameter')\n",
    "plt.xlabel('Diameter in inches')\n",
    "plt.ylabel('Price in dollars')\n",
    "plt.axis([0, 25, 0, 25])\n",
    "plt.grid(True)\n",
    "plt.scatter(X_train, y_train)\n",
    "plt.show()\n",
    "\n",
    "\n",
    "print X_train\n",
    "print'**********'\n",
    "print X_train_quadratic\n",
    "print'**********'\n",
    "print X_train_cube\n",
    "print'**********'\n",
    "print X_test\n",
    "print'**********'\n",
    "print X_test_quadratic\n",
    "print'**********'\n",
    "print  X_test_cube\n",
    "\n",
    "print 'Simple linear regression r-squared', regressor.score(X_test, y_test)\n",
    "print 'Quadratic regression r-squared', regressor_quadratic.score(X_test_quadratic, y_test)\n",
    "print 'Cubic regression r-squared', regressor_cube.score(X_test_cube, y_test)\n"
   ]
  },
  {
   "cell_type": "code",
   "execution_count": 1,
   "metadata": {},
   "outputs": [],
   "source": []
  },
  {
   "cell_type": "code",
   "execution_count": 5,
   "metadata": {},
   "outputs": [],
   "source": []
  },
  {
   "cell_type": "code",
   "execution_count": 5,
   "metadata": {},
   "outputs": [],
   "source": []
  },
  {
   "cell_type": "code",
   "execution_count": null,
   "metadata": {},
   "outputs": [],
   "source": []
  }
 ],
 "metadata": {
  "kernelspec": {
   "display_name": "Python 2",
   "language": "python",
   "name": "python2"
  },
  "language_info": {
   "codemirror_mode": {
    "name": "ipython",
    "version": 2
   },
   "file_extension": ".py",
   "mimetype": "text/x-python",
   "name": "python",
   "nbconvert_exporter": "python",
   "pygments_lexer": "ipython2",
   "version": "2.7.6"
  }
 },
 "nbformat": 4,
 "nbformat_minor": 0
}
