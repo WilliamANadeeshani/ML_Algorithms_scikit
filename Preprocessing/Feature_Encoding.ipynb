{
 "cells": [
  {
   "cell_type": "code",
   "execution_count": 19,
   "metadata": {
    "collapsed": true
   },
   "outputs": [
    {
     "name": "stdout",
     "output_type": "stream",
     "text": [
      "[[0. 1. 0.]\n [0. 0. 1.]\n [1. 0. 0.]]\n[[0 1 1 0 1 0 1 0 0 1]\n [0 1 1 1 0 1 0 0 1 0]\n [1 0 0 0 0 0 0 1 0 0]]\n{u'duke': 2, u'basketball': 1, u'lost': 5, u'played': 6, u'in': 4, u'game': 3, u'sandwich': 7, u'unc': 9, u'ate': 0, u'the': 8}\nDistance between 1st and 2nd documents: [[2.44948974]]\nDistance between 1st and 3rd documents: [[2.64575131]]\nDistance between 3rd and 2nd documents: [[2.64575131]]\n[[2 1 3 1 1]]\n{u'sandwich': 2, u'wizard': 4, u'dog': 1, u'transfigured': 3, u'ate': 0}\n[[0.         0.42804604 0.42804604 0.         0.         0.5628291\n  0.         0.5628291 ]\n [0.         0.42804604 0.42804604 0.5628291  0.5628291  0.\n  0.         0.        ]\n [0.70710678 0.         0.         0.         0.         0.\n  0.70710678 0.        ]]\n[[-1.  0.  0.  0.  0.  0.]\n [ 0.  0.  0.  1.  0.  0.]\n [ 0.  0.  0.  0. -1.  0.]\n [ 0.  1.  0.  0.  0.  0.]]\n"
     ]
    }
   ],
   "source": [
    "from sklearn.feature_extraction import DictVectorizer\n",
    "from sklearn.feature_extraction.text import CountVectorizer\n",
    "from sklearn.metrics.pairwise import euclidean_distances\n",
    "from sklearn.feature_extraction.text import TfidfVectorizer\n",
    "from sklearn.feature_extraction.text import HashingVectorizer\n",
    "\n",
    "# onehot --> order is important\n",
    "onehot_encoder = DictVectorizer()\n",
    "instances = [{'city': 'New York'}, {'city': 'San Francisco'}, {'city': 'Chapel Hill'}]\n",
    "\n",
    "print(onehot_encoder.fit_transform(instances).toarray())\n",
    "\n",
    "# bag of word model\n",
    "corpus = [\n",
    "    'UNC played Duke in basketball',\n",
    "    'Duke lost the basketball game',\n",
    "    'I ate a sandwich'\n",
    "]\n",
    "\n",
    "vectorizer = CountVectorizer()\n",
    "vectors = vectorizer.fit_transform(corpus).todense()\n",
    "print vectors\n",
    "print vectorizer.vocabulary_\n",
    "print 'Distance between 1st and 2nd documents:', euclidean_distances(vectors[0], vectors[1])\n",
    "print 'Distance between 1st and 3rd documents:', euclidean_distances(vectors[0], vectors[2])\n",
    "print 'Distance between 3rd and 2nd documents:', euclidean_distances(vectors[1], vectors[2])\n",
    "\n",
    "\n",
    "# Extending bag-of-words with TF-IDF weights --> after reduce dimensionality\n",
    "corpus2 = [\n",
    "      'The dog ate a sandwich, '\n",
    "      'the wizard transfigured a sandwich, and I ate a sandwich'\n",
    "]\n",
    "vectorizer2 = CountVectorizer(stop_words='english')\n",
    "print vectorizer2.fit_transform(corpus2).todense()  # dog = 1 & sandwich = 3 (frequency)\n",
    "print vectorizer2.vocabulary_\n",
    "\n",
    "vectorizer = TfidfVectorizer(stop_words='english')\n",
    "print vectorizer.fit_transform(corpus).todense()\n",
    "\n",
    "# Space-efficient feature vectorizing with the hashing trick\n",
    "corpus = ['the', 'ate', 'bacon', 'cat']\n",
    "vectorizer3 = HashingVectorizer(n_features=6)\n",
    "print vectorizer3.transform(corpus).todense()\n",
    "\n",
    "\n"
   ]
  },
  {
   "cell_type": "code",
   "execution_count": null,
   "metadata": {},
   "outputs": [],
   "source": []
  }
 ],
 "metadata": {
  "kernelspec": {
   "display_name": "Python 2",
   "language": "python",
   "name": "python2"
  },
  "language_info": {
   "codemirror_mode": {
    "name": "ipython",
    "version": 2
   },
   "file_extension": ".py",
   "mimetype": "text/x-python",
   "name": "python",
   "nbconvert_exporter": "python",
   "pygments_lexer": "ipython2",
   "version": "2.7.6"
  }
 },
 "nbformat": 4,
 "nbformat_minor": 0
}
